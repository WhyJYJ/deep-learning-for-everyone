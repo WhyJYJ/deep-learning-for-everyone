{
  "nbformat": 4,
  "nbformat_minor": 0,
  "metadata": {
    "colab": {
      "name": "Pandas_10.ipynb",
      "provenance": []
    },
    "kernelspec": {
      "name": "python3",
      "display_name": "Python 3"
    }
  },
  "cells": [
    {
      "cell_type": "markdown",
      "metadata": {
        "id": "7xBIxcT688mu",
        "colab_type": "text"
      },
      "source": [
        "1. Object Creation (객체 생성)"
      ]
    },
    {
      "cell_type": "code",
      "metadata": {
        "id": "pa3fG3G_8YBx",
        "colab_type": "code",
        "colab": {}
      },
      "source": [
        "import pandas as pd\n",
        "import numpy as np\n",
        "import matplotlib.pyplot as plt"
      ],
      "execution_count": 0,
      "outputs": []
    },
    {
      "cell_type": "code",
      "metadata": {
        "id": "OrIX1QVG8kFK",
        "colab_type": "code",
        "colab": {}
      },
      "source": [
        "s = pd.Series([1,3,5,np.nan,6,8])\n",
        "s"
      ],
      "execution_count": 0,
      "outputs": []
    },
    {
      "cell_type": "code",
      "metadata": {
        "id": "2yb4IP_g8m7m",
        "colab_type": "code",
        "colab": {}
      },
      "source": [
        "dates = pd.date_range('20130101', periods=6)\n",
        "dates"
      ],
      "execution_count": 0,
      "outputs": []
    },
    {
      "cell_type": "code",
      "metadata": {
        "id": "n9Tuo8kY8qEn",
        "colab_type": "code",
        "colab": {}
      },
      "source": [
        "df = pd.DataFrame(np.random.randn(6,4), index=dates, columns=list('ABCD'))\n",
        "df"
      ],
      "execution_count": 0,
      "outputs": []
    },
    {
      "cell_type": "code",
      "metadata": {
        "id": "b6BXIaHN8xzT",
        "colab_type": "code",
        "colab": {}
      },
      "source": [
        "df2 = pd.DataFrame({'A' : 1.,\n",
        "                    'B' : pd.Timestamp('20130102'),\n",
        "                    'C' : pd.Series(1,index=list(range(4)),dtype='float32'),\n",
        "                    'D' : np.array([3] * 4,dtype='int32'),\n",
        "                    'E' : pd.Categorical([\"test\",\"train\",\"test\",\"train\"]),\n",
        "                    'F' : 'foo' })\n",
        "df2\n",
        "df2.dtypes"
      ],
      "execution_count": 0,
      "outputs": []
    },
    {
      "cell_type": "markdown",
      "metadata": {
        "id": "sPxrXCBC9OAT",
        "colab_type": "text"
      },
      "source": [
        "2. Viewing Data (데이터 확인하기)"
      ]
    },
    {
      "cell_type": "code",
      "metadata": {
        "id": "JWu2aj_v9Ozy",
        "colab_type": "code",
        "colab": {}
      },
      "source": [
        "df.tail(3)\n",
        "df.tail()\n",
        "df.head()"
      ],
      "execution_count": 0,
      "outputs": []
    },
    {
      "cell_type": "code",
      "metadata": {
        "id": "4V_Lv2fu9YOk",
        "colab_type": "code",
        "colab": {}
      },
      "source": [
        "df.index"
      ],
      "execution_count": 0,
      "outputs": []
    },
    {
      "cell_type": "code",
      "metadata": {
        "id": "m42LAfCR9YuE",
        "colab_type": "code",
        "colab": {}
      },
      "source": [
        "df.columns"
      ],
      "execution_count": 0,
      "outputs": []
    },
    {
      "cell_type": "code",
      "metadata": {
        "id": "ZhAvyihF9ax2",
        "colab_type": "code",
        "colab": {}
      },
      "source": [
        "df.values"
      ],
      "execution_count": 0,
      "outputs": []
    },
    {
      "cell_type": "code",
      "metadata": {
        "id": "ai2nZ4ww9cSL",
        "colab_type": "code",
        "colab": {}
      },
      "source": [
        "df.describe()"
      ],
      "execution_count": 0,
      "outputs": []
    },
    {
      "cell_type": "code",
      "metadata": {
        "id": "_HJKJ9ST9f0J",
        "colab_type": "code",
        "colab": {}
      },
      "source": [
        "df.T"
      ],
      "execution_count": 0,
      "outputs": []
    },
    {
      "cell_type": "code",
      "metadata": {
        "id": "DOfmENFi9hQk",
        "colab_type": "code",
        "colab": {}
      },
      "source": [
        "df.sort_index(axis=1, ascending=False)"
      ],
      "execution_count": 0,
      "outputs": []
    },
    {
      "cell_type": "code",
      "metadata": {
        "id": "dG-83ZS99i3C",
        "colab_type": "code",
        "colab": {}
      },
      "source": [
        "df.sort_values(by='B')"
      ],
      "execution_count": 0,
      "outputs": []
    },
    {
      "cell_type": "markdown",
      "metadata": {
        "id": "QlQCYSoD9khh",
        "colab_type": "text"
      },
      "source": [
        "3. Selection (선택)"
      ]
    },
    {
      "cell_type": "markdown",
      "metadata": {
        "id": "luVtJVYL-61r",
        "colab_type": "text"
      },
      "source": [
        "Getting (데이터 얻기)"
      ]
    },
    {
      "cell_type": "code",
      "metadata": {
        "id": "5P3YBPFl9lJR",
        "colab_type": "code",
        "colab": {}
      },
      "source": [
        "df['A']"
      ],
      "execution_count": 0,
      "outputs": []
    },
    {
      "cell_type": "code",
      "metadata": {
        "id": "9J7kcHZV-eZm",
        "colab_type": "code",
        "colab": {}
      },
      "source": [
        "df[0:3]"
      ],
      "execution_count": 0,
      "outputs": []
    },
    {
      "cell_type": "code",
      "metadata": {
        "id": "UYWq6mHE-xtc",
        "colab_type": "code",
        "colab": {}
      },
      "source": [
        "df['20130102':'20130104']"
      ],
      "execution_count": 0,
      "outputs": []
    },
    {
      "cell_type": "code",
      "metadata": {
        "id": "TC4mi0Fh-zpt",
        "colab_type": "code",
        "colab": {}
      },
      "source": [
        "Selection by Label (Label 을 통한 선택)"
      ],
      "execution_count": 0,
      "outputs": []
    },
    {
      "cell_type": "code",
      "metadata": {
        "id": "TwR9EeRo-6lj",
        "colab_type": "code",
        "colab": {}
      },
      "source": [
        "df.loc[dates[0]]"
      ],
      "execution_count": 0,
      "outputs": []
    },
    {
      "cell_type": "code",
      "metadata": {
        "id": "347ypBLE_JWK",
        "colab_type": "code",
        "colab": {}
      },
      "source": [
        "df.loc[:,['A','B']]"
      ],
      "execution_count": 0,
      "outputs": []
    },
    {
      "cell_type": "code",
      "metadata": {
        "id": "0CIw2MSl_LVJ",
        "colab_type": "code",
        "colab": {}
      },
      "source": [
        "df.loc['20130102':'20130104', ['A','B']]"
      ],
      "execution_count": 0,
      "outputs": []
    },
    {
      "cell_type": "code",
      "metadata": {
        "id": "XUNQt65p_NgF",
        "colab_type": "code",
        "colab": {}
      },
      "source": [
        "df.loc['20130102',['A','B']]"
      ],
      "execution_count": 0,
      "outputs": []
    },
    {
      "cell_type": "code",
      "metadata": {
        "id": "ImbJiqSm_QWT",
        "colab_type": "code",
        "colab": {}
      },
      "source": [
        "df.loc[dates[0],'A']"
      ],
      "execution_count": 0,
      "outputs": []
    },
    {
      "cell_type": "code",
      "metadata": {
        "id": "zvPBL6yy_SBg",
        "colab_type": "code",
        "colab": {}
      },
      "source": [
        "df.at[dates[0],'A']"
      ],
      "execution_count": 0,
      "outputs": []
    },
    {
      "cell_type": "markdown",
      "metadata": {
        "id": "1G1XeYgA_VAW",
        "colab_type": "text"
      },
      "source": [
        "Selection by Position (위치로 선택하기)"
      ]
    },
    {
      "cell_type": "code",
      "metadata": {
        "id": "s4iRGIUQ_TgF",
        "colab_type": "code",
        "colab": {}
      },
      "source": [
        "df.iloc[3]"
      ],
      "execution_count": 0,
      "outputs": []
    },
    {
      "cell_type": "code",
      "metadata": {
        "id": "OFVYeP28_ZdE",
        "colab_type": "code",
        "colab": {}
      },
      "source": [
        "df.iloc[3:5,0:2]"
      ],
      "execution_count": 0,
      "outputs": []
    },
    {
      "cell_type": "code",
      "metadata": {
        "id": "BqwkiK9L_bI6",
        "colab_type": "code",
        "colab": {}
      },
      "source": [
        "df.iloc[[1,2,4],[0,2]]"
      ],
      "execution_count": 0,
      "outputs": []
    },
    {
      "cell_type": "code",
      "metadata": {
        "id": "vEbCl2i3_d15",
        "colab_type": "code",
        "colab": {}
      },
      "source": [
        "df.iloc[1:3,:]"
      ],
      "execution_count": 0,
      "outputs": []
    },
    {
      "cell_type": "code",
      "metadata": {
        "id": "SsrEeNwJ_f7S",
        "colab_type": "code",
        "colab": {}
      },
      "source": [
        "df.iloc[:,1:3]"
      ],
      "execution_count": 0,
      "outputs": []
    },
    {
      "cell_type": "code",
      "metadata": {
        "id": "E9U3AFdb_hZo",
        "colab_type": "code",
        "colab": {}
      },
      "source": [
        "df.iloc[1,1]"
      ],
      "execution_count": 0,
      "outputs": []
    },
    {
      "cell_type": "code",
      "metadata": {
        "id": "NdW7DaY2_i2G",
        "colab_type": "code",
        "colab": {}
      },
      "source": [
        "df.iat[1,1]"
      ],
      "execution_count": 0,
      "outputs": []
    },
    {
      "cell_type": "markdown",
      "metadata": {
        "id": "gN-BVtQI_ksm",
        "colab_type": "text"
      },
      "source": [
        "Boolean Indexing"
      ]
    },
    {
      "cell_type": "code",
      "metadata": {
        "id": "ZZoZ89ot_lLC",
        "colab_type": "code",
        "colab": {}
      },
      "source": [
        "df[df.A > 0]"
      ],
      "execution_count": 0,
      "outputs": []
    },
    {
      "cell_type": "code",
      "metadata": {
        "id": "k2jIMkaS_nr2",
        "colab_type": "code",
        "colab": {}
      },
      "source": [
        "df[df > 0]"
      ],
      "execution_count": 0,
      "outputs": []
    },
    {
      "cell_type": "code",
      "metadata": {
        "id": "Hcv59gAy_ob5",
        "colab_type": "code",
        "colab": {}
      },
      "source": [
        "df2 = df.copy()"
      ],
      "execution_count": 0,
      "outputs": []
    },
    {
      "cell_type": "code",
      "metadata": {
        "id": "9rBKolqn_rI0",
        "colab_type": "code",
        "colab": {}
      },
      "source": [
        "df2['E'] = ['one', 'one', 'two', 'three', 'four', 'three']"
      ],
      "execution_count": 0,
      "outputs": []
    },
    {
      "cell_type": "code",
      "metadata": {
        "id": "RRsMZHQM_rie",
        "colab_type": "code",
        "colab": {}
      },
      "source": [
        "df2"
      ],
      "execution_count": 0,
      "outputs": []
    },
    {
      "cell_type": "code",
      "metadata": {
        "id": "tF40t4u4_tD-",
        "colab_type": "code",
        "colab": {}
      },
      "source": [
        "df2[df2['E'].isin(['two','four'])]"
      ],
      "execution_count": 0,
      "outputs": []
    },
    {
      "cell_type": "markdown",
      "metadata": {
        "id": "gOMCGxh0_z9V",
        "colab_type": "text"
      },
      "source": [
        "Setting (설정)"
      ]
    },
    {
      "cell_type": "code",
      "metadata": {
        "id": "L400yqSv_uiT",
        "colab_type": "code",
        "colab": {}
      },
      "source": [
        "s1 = pd.Series([1,2,3,4,5,6], index=pd.date_range('20130102', periods=6))\n",
        "s1"
      ],
      "execution_count": 0,
      "outputs": []
    },
    {
      "cell_type": "code",
      "metadata": {
        "id": "KkEynOzz_77J",
        "colab_type": "code",
        "colab": {}
      },
      "source": [
        "df['F'] = s1"
      ],
      "execution_count": 0,
      "outputs": []
    },
    {
      "cell_type": "code",
      "metadata": {
        "id": "u6W_-azN_8Pt",
        "colab_type": "code",
        "colab": {}
      },
      "source": [
        "df.at[dates[0],'A'] = 0"
      ],
      "execution_count": 0,
      "outputs": []
    },
    {
      "cell_type": "code",
      "metadata": {
        "id": "F1OIYxi1_--I",
        "colab_type": "code",
        "colab": {}
      },
      "source": [
        "df.iat[0,1] = 0"
      ],
      "execution_count": 0,
      "outputs": []
    },
    {
      "cell_type": "code",
      "metadata": {
        "id": "ItMf8QfwACXP",
        "colab_type": "code",
        "colab": {}
      },
      "source": [
        "df.loc[:,'D'] = np.array([5] * len(df))"
      ],
      "execution_count": 0,
      "outputs": []
    },
    {
      "cell_type": "code",
      "metadata": {
        "id": "g3LQWfMXADoU",
        "colab_type": "code",
        "colab": {}
      },
      "source": [
        "df"
      ],
      "execution_count": 0,
      "outputs": []
    },
    {
      "cell_type": "code",
      "metadata": {
        "id": "FyPwQ-X-AGLQ",
        "colab_type": "code",
        "colab": {}
      },
      "source": [
        "df2 = df.copy()\n",
        "df2[df2 > 0] = -df2\n",
        "df2"
      ],
      "execution_count": 0,
      "outputs": []
    },
    {
      "cell_type": "markdown",
      "metadata": {
        "id": "-cY_ljKrAJQT",
        "colab_type": "text"
      },
      "source": [
        "4. Missing Data (결측치)"
      ]
    },
    {
      "cell_type": "code",
      "metadata": {
        "id": "PaRowftwALuJ",
        "colab_type": "code",
        "colab": {}
      },
      "source": [
        "df1 = df.reindex(index=dates[0:4], columns=list(df.columns) + ['E'])\n",
        "df1.loc[dates[0]:dates[1],'E'] = 1\n",
        "df1"
      ],
      "execution_count": 0,
      "outputs": []
    },
    {
      "cell_type": "code",
      "metadata": {
        "id": "FE4VMw3QAOxT",
        "colab_type": "code",
        "colab": {}
      },
      "source": [
        "df1.dropna(how='any')"
      ],
      "execution_count": 0,
      "outputs": []
    },
    {
      "cell_type": "code",
      "metadata": {
        "id": "LKTBH1y0AQaq",
        "colab_type": "code",
        "colab": {}
      },
      "source": [
        "df1.fillna(value=5)"
      ],
      "execution_count": 0,
      "outputs": []
    },
    {
      "cell_type": "code",
      "metadata": {
        "id": "u0Otb00dAR1p",
        "colab_type": "code",
        "colab": {}
      },
      "source": [
        "pd.isna(df1)"
      ],
      "execution_count": 0,
      "outputs": []
    },
    {
      "cell_type": "markdown",
      "metadata": {
        "id": "ceq7_6_JAZ_H",
        "colab_type": "text"
      },
      "source": [
        "12. Getting Data In / Out (데이터 입 / 출력)"
      ]
    },
    {
      "cell_type": "code",
      "metadata": {
        "id": "0qgPIdAfAc6q",
        "colab_type": "code",
        "colab": {}
      },
      "source": [
        "df.to_csv('foo.csv')"
      ],
      "execution_count": 0,
      "outputs": []
    },
    {
      "cell_type": "code",
      "metadata": {
        "id": "nIH324qOAerc",
        "colab_type": "code",
        "colab": {}
      },
      "source": [
        "pd.read_csv('foo.csv')"
      ],
      "execution_count": 0,
      "outputs": []
    },
    {
      "cell_type": "markdown",
      "metadata": {
        "id": "PpGwGg7QAiTU",
        "colab_type": "text"
      },
      "source": [
        "HDF5"
      ]
    },
    {
      "cell_type": "code",
      "metadata": {
        "id": "omT6-XctAjDP",
        "colab_type": "code",
        "colab": {}
      },
      "source": [
        "df.to_hdf('foo.h5','df')"
      ],
      "execution_count": 0,
      "outputs": []
    },
    {
      "cell_type": "code",
      "metadata": {
        "id": "pL-LljA-AkQw",
        "colab_type": "code",
        "colab": {}
      },
      "source": [
        "pd.read_hdf('foo.h5','df')"
      ],
      "execution_count": 0,
      "outputs": []
    },
    {
      "cell_type": "markdown",
      "metadata": {
        "id": "9mxFTNBlAmlO",
        "colab_type": "text"
      },
      "source": [
        "Excel\n"
      ]
    },
    {
      "cell_type": "code",
      "metadata": {
        "id": "uxiqjKjRApWM",
        "colab_type": "code",
        "colab": {}
      },
      "source": [
        "df.to_excel('foo.xlsx', sheet_name='Sheet1')"
      ],
      "execution_count": 0,
      "outputs": []
    },
    {
      "cell_type": "code",
      "metadata": {
        "id": "DfUGnwDMAsQo",
        "colab_type": "code",
        "colab": {}
      },
      "source": [
        "pd.read_excel('foo.xlsx', 'Sheet1', index_col=None, na_values=['NA'])"
      ],
      "execution_count": 0,
      "outputs": []
    },
    {
      "cell_type": "markdown",
      "metadata": {
        "id": "zNqzA3tpAu0T",
        "colab_type": "text"
      },
      "source": [
        "13. Gotchas (잡았다!)"
      ]
    },
    {
      "cell_type": "code",
      "metadata": {
        "id": "iFJbjuV2AvVj",
        "colab_type": "code",
        "colab": {}
      },
      "source": [
        "if pd.Series([False, True, False]):\n",
        "    print(\"I was true\")"
      ],
      "execution_count": 0,
      "outputs": []
    },
    {
      "cell_type": "code",
      "metadata": {
        "id": "JfDObDz5Ayy4",
        "colab_type": "code",
        "colab": {}
      },
      "source": [
        "if pd.Series([False, True, False])is not None:\n",
        "      print(\"I was not None\")"
      ],
      "execution_count": 0,
      "outputs": []
    }
  ]
}